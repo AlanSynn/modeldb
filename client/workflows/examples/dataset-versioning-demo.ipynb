{
 "cells": [
  {
   "cell_type": "code",
   "execution_count": 1,
   "metadata": {},
   "outputs": [],
   "source": [
    "# restart your notebook if prompted on Colab\n",
    "try:\n",
    "    import verta\n",
    "except ImportError:\n",
    "    !pip install verta"
   ]
  },
  {
   "cell_type": "code",
   "execution_count": 2,
   "metadata": {},
   "outputs": [],
   "source": [
    "HOST = \"datasetint.dev.verta.ai\""
   ]
  },
  {
   "cell_type": "code",
   "execution_count": 3,
   "metadata": {},
   "outputs": [],
   "source": [
    "import os\n",
    "os.environ['VERTA_EMAIL'] = ''\n",
    "os.environ['VERTA_DEV_KEY'] = ''"
   ]
  },
  {
   "cell_type": "code",
   "execution_count": 4,
   "metadata": {},
   "outputs": [],
   "source": [
    "from __future__ import print_function\n",
    "\n",
    "import warnings\n",
    "from sklearn.exceptions import ConvergenceWarning\n",
    "warnings.filterwarnings(\"ignore\", category=ConvergenceWarning)\n",
    "warnings.filterwarnings(\"ignore\", category=FutureWarning)\n",
    "\n",
    "import itertools\n",
    "import os\n",
    "import time\n",
    "\n",
    "import six\n",
    "\n",
    "import numpy as np\n",
    "import pandas as pd\n",
    "\n",
    "import sklearn\n",
    "from sklearn import model_selection\n",
    "from sklearn import linear_model\n",
    "from sklearn import metrics"
   ]
  },
  {
   "cell_type": "code",
   "execution_count": 5,
   "metadata": {},
   "outputs": [],
   "source": [
    "try:\n",
    "    import wget\n",
    "except ImportError:\n",
    "    !pip install wget  # you may need pip3\n",
    "    import wget"
   ]
  },
  {
   "cell_type": "code",
   "execution_count": 6,
   "metadata": {},
   "outputs": [
    {
     "name": "stdout",
     "output_type": "stream",
     "text": [
      "set email from environment\n",
      "set developer key from environment\n",
      "connection successfully established\n"
     ]
    }
   ],
   "source": [
    "from verta import Client\n",
    "from verta.utils import ModelAPI\n",
    "\n",
    "client = Client(HOST)"
   ]
  },
  {
   "cell_type": "code",
   "execution_count": 9,
   "metadata": {},
   "outputs": [
    {
     "name": "stdout",
     "output_type": "stream",
     "text": [
      "set existing Dataset: Demo Dataset S3 from personal workspace\n",
      "Dataset 1: id: \"12\"\n",
      "name: \"Demo Dataset S3\"\n",
      "owner: \"1003\"\n",
      "time_created: 1593574504464\n",
      "time_updated: 1593576518537\n",
      "workspace_id: \"1003\"\n",
      "workspace_type: USER\n",
      "\n",
      "set existing Dataset: Demo Dataset S3 - 2 from personal workspace\n",
      "Dataset 2: id: \"13\"\n",
      "name: \"Demo Dataset S3 - 2\"\n",
      "owner: \"1003\"\n",
      "description: \"S3 Dataset with tags and description\"\n",
      "tags: \"tag-1\"\n",
      "tags: \"tag-2\"\n",
      "tags: \"tag-3\"\n",
      "time_created: 1593574505397\n",
      "time_updated: 1593574505405\n",
      "workspace_id: \"1003\"\n",
      "workspace_type: USER\n",
      "\n",
      "created new DatasetVersion: 0\n"
     ]
    }
   ],
   "source": [
    "dataset1 = client.set_dataset(name=\"Demo Dataset S3\", type=\"s3\")\n",
    "print(\"Dataset 1: {}\".format(dataset1))\n",
    "\n",
    "dataset2 = client.set_dataset(name=\"Demo Dataset S3 - 2\", type=\"s3\", tags=[\"tag-1\",\"tag-2\",\"tag-3\"], desc=\"S3 Dataset with tags and description\")\n",
    "print(\"Dataset 2: {}\".format(dataset2))\n",
    "\n",
    "version = dataset1.create_version(bucket_name=\"verta-starter\")"
   ]
  },
  {
   "cell_type": "code",
   "execution_count": 10,
   "metadata": {},
   "outputs": [
    {
     "name": "stdout",
     "output_type": "stream",
     "text": [
      "created new DatasetVersion: 0\n"
     ]
    }
   ],
   "source": [
    "version = dataset1.create_version(bucket_name=\"verta-starter\")"
   ]
  },
  {
   "cell_type": "code",
   "execution_count": 20,
   "metadata": {},
   "outputs": [
    {
     "data": {
      "text/plain": [
       "'bd0332ba2d95e4ccc614978df2136fbd33961352b326690977fa680ffe544e45'"
      ]
     },
     "execution_count": 20,
     "metadata": {},
     "output_type": "execute_result"
    }
   ],
   "source": [
    "version.id"
   ]
  },
  {
   "cell_type": "code",
   "execution_count": 12,
   "metadata": {},
   "outputs": [
    {
     "data": {
      "text/plain": [
       "location_type: S3_FILE_SYSTEM\n",
       "size: 370364312\n",
       "dataset_part_infos {\n",
       "  path: \"spam.csv\"\n",
       "  size: 503663\n",
       "  checksum: \"\\\"008dcf9ca6aab621d3b3831db6815867\\\"\"\n",
       "  last_modified_at_source: 1574898082000\n",
       "}\n",
       "dataset_part_infos {\n",
       "  path: \"census-cleaned.csv\"\n",
       "  size: 9950413\n",
       "  checksum: \"\\\"7b0b17a5271852616ed19a72914e776d\\\"\"\n",
       "  last_modified_at_source: 1590635928000\n",
       "}\n",
       "dataset_part_infos {\n",
       "  path: \"english-tweets.csv\"\n",
       "  size: 124090700\n",
       "  checksum: \"\\\"15da0ba7835922e239a43a6ec2a8356c-8\\\"\"\n",
       "  last_modified_at_source: 1584653133000\n",
       "}\n",
       "dataset_part_infos {\n",
       "  path: \"reviews.ann\"\n",
       "  size: 22029640\n",
       "  checksum: \"\\\"f5887481b609b7dba1974a9ef9deac79-3\\\"\"\n",
       "  last_modified_at_source: 1574904181000\n",
       "}\n",
       "dataset_part_infos {\n",
       "  path: \"positive-english-tweets.csv\"\n",
       "  size: 61900256\n",
       "  checksum: \"\\\"9a1c0f0d272bfb2db20fe5791e6483d3-4\\\"\"\n",
       "  last_modified_at_source: 1584653133000\n",
       "}\n",
       "dataset_part_infos {\n",
       "  path: \"german-tweets.csv\"\n",
       "  size: 3197125\n",
       "  checksum: \"\\\"afcc5b2bc3b206f786c45e72b87e44fa\\\"\"\n",
       "  last_modified_at_source: 1584653133000\n",
       "}\n",
       "dataset_part_infos {\n",
       "  path: \"models/model.pkl\"\n",
       "  size: 1030\n",
       "  checksum: \"\\\"858843b1b8e2110d8d753fdeba13a01e\\\"\"\n",
       "  last_modified_at_source: 1589488055000\n",
       "}\n",
       "dataset_part_infos {\n",
       "  path: \"imdb_master.csv\"\n",
       "  size: 135469499\n",
       "  checksum: \"\\\"1c2a44de2976d799abbd2e05c319d5a1-8\\\"\"\n",
       "  last_modified_at_source: 1572052810000\n",
       "}\n",
       "dataset_part_infos {\n",
       "  path: \"census-train.csv\"\n",
       "  size: 3271573\n",
       "  checksum: \"\\\"64af2ff44dd04acceb277d024939b619\\\"\"\n",
       "  last_modified_at_source: 1558707926000\n",
       "}\n",
       "dataset_part_infos {\n",
       "  path: \"census-test.csv\"\n",
       "  size: 9950413\n",
       "  checksum: \"\\\"237528c3db20fc6352db67a374ceaf3f-2\\\"\"\n",
       "  last_modified_at_source: 1558707913000\n",
       "}\n",
       "dataset_part_infos {\n",
       "  path: \"models/\"\n",
       "  checksum: \"\\\"d41d8cd98f00b204e9800998ecf8427e\\\"\"\n",
       "  last_modified_at_source: 1589487938000\n",
       "}\n",
       "base_path: \"version\""
      ]
     },
     "execution_count": 12,
     "metadata": {},
     "output_type": "execute_result"
    }
   ],
   "source": [
    "version"
   ]
  },
  {
   "cell_type": "code",
   "execution_count": 32,
   "metadata": {},
   "outputs": [
    {
     "data": {
      "text/plain": [
       "{'Grpc-Metadata-source': 'PythonClient',\n",
       " 'Grpc-Metadata-email': 'ravi@verta.ai',\n",
       " 'Grpc-Metadata-developer_key': '10c7618d-8120-451d-bc02-b39ab0668cf5',\n",
       " 'Grpc-Metadata-scheme': 'https'}"
      ]
     },
     "execution_count": 32,
     "metadata": {},
     "output_type": "execute_result"
    }
   ],
   "source": [
    "client._conn.auth"
   ]
  },
  {
   "cell_type": "code",
   "execution_count": 57,
   "metadata": {},
   "outputs": [
    {
     "data": {
      "text/plain": [
       "'{\"error\":\"invalid character \\'d\\' looking for beginning of value\",\"code\":3,\"message\":\"invalid character \\'d\\' looking for beginning of value\"}'"
      ]
     },
     "execution_count": 57,
     "metadata": {},
     "output_type": "execute_result"
    }
   ],
   "source": [
    "url = \"{}://{}/v1/dataset-version/findDatasetVersions\".format(\n",
    "            client._conn.scheme,\n",
    "            client._conn.socket,\n",
    "        )\n",
    "#Message = client._DatasetVersionService.FindDatasetVersions\n",
    "msg = {'dataset_id':dataset1.id, 'dataset_version_ids':[version.id]}\n",
    "#payload = {'key1': 'value1', 'key2': 'value2'}\n",
    "msg = {'dataset_id': ''}\n",
    "import requests\n",
    "r = requests.post(url, data = msg, headers= client._conn.auth)\n",
    "#r = requests.Request('POST', url, data = msg, headers= client._conn.auth)\n",
    "r.text"
   ]
  },
  {
   "cell_type": "code",
   "execution_count": 51,
   "metadata": {},
   "outputs": [
    {
     "ename": "AttributeError",
     "evalue": "module 'verta' has no attribute '_utils'",
     "output_type": "error",
     "traceback": [
      "\u001b[0;31m---------------------------------------------------------------------------\u001b[0m",
      "\u001b[0;31mAttributeError\u001b[0m                            Traceback (most recent call last)",
      "\u001b[0;32m<ipython-input-51-e1594835cf42>\u001b[0m in \u001b[0;36m<module>\u001b[0;34m\u001b[0m\n\u001b[0;32m----> 1\u001b[0;31m \u001b[0mverta\u001b[0m\u001b[0;34m.\u001b[0m\u001b[0m_utils\u001b[0m\u001b[0;34m.\u001b[0m\u001b[0mmake_request\u001b[0m\u001b[0;34m(\u001b[0m\u001b[0;34m)\u001b[0m\u001b[0;34m\u001b[0m\u001b[0;34m\u001b[0m\u001b[0m\n\u001b[0m",
      "\u001b[0;31mAttributeError\u001b[0m: module 'verta' has no attribute '_utils'"
     ]
    }
   ],
   "source": [
    "verta._utils.make_request()"
   ]
  },
  {
   "cell_type": "code",
   "execution_count": null,
   "metadata": {},
   "outputs": [],
   "source": [
    "find_dataset_output = client.find_datasets(name=dataset1[\"name\"], tags=[\"tag-1\"])\n",
    "print(\"Find Datasets output: {}\".format(find_dataset_output))"
   ]
  }
 ],
 "metadata": {
  "kernelspec": {
   "display_name": "Python 3",
   "language": "python",
   "name": "python3"
  },
  "language_info": {
   "codemirror_mode": {
    "name": "ipython",
    "version": 3
   },
   "file_extension": ".py",
   "mimetype": "text/x-python",
   "name": "python",
   "nbconvert_exporter": "python",
   "pygments_lexer": "ipython3",
   "version": "3.7.6"
  }
 },
 "nbformat": 4,
 "nbformat_minor": 2
}
