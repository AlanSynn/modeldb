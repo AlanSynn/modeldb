{
 "cells": [
  {
   "cell_type": "code",
   "execution_count": null,
   "metadata": {},
   "outputs": [],
   "source": [
    "# restart your notebook if prompted on Colab\n",
    "try:\n",
    "    import verta\n",
    "except ImportError:\n",
    "    !pip install verta"
   ]
  },
  {
   "cell_type": "code",
   "execution_count": null,
   "metadata": {},
   "outputs": [],
   "source": [
    "HOST = \"datasetint.dev.verta.ai\""
   ]
  },
  {
   "cell_type": "code",
   "execution_count": null,
   "metadata": {},
   "outputs": [],
   "source": [
    "import os\n",
    "# os.environ['VERTA_EMAIL'] = ''\n",
    "# os.environ['VERTA_DEV_KEY'] = ''\n",
    "os.environ['VERTA_EMAIL']"
   ]
  },
  {
   "cell_type": "code",
   "execution_count": null,
   "metadata": {},
   "outputs": [],
   "source": [
    "from __future__ import print_function\n",
    "\n",
    "import warnings\n",
    "from sklearn.exceptions import ConvergenceWarning\n",
    "warnings.filterwarnings(\"ignore\", category=ConvergenceWarning)\n",
    "warnings.filterwarnings(\"ignore\", category=FutureWarning)\n",
    "\n",
    "import itertools\n",
    "import os\n",
    "import time\n",
    "import requests\n",
    "\n",
    "import six\n",
    "\n",
    "import numpy as np\n",
    "import pandas as pd\n",
    "\n",
    "import sklearn\n",
    "from sklearn import model_selection\n",
    "from sklearn import linear_model\n",
    "from sklearn import metrics\n",
    "import json"
   ]
  },
  {
   "cell_type": "code",
   "execution_count": null,
   "metadata": {},
   "outputs": [],
   "source": [
    "try:\n",
    "    import wget\n",
    "except ImportError:\n",
    "    !pip install wget\n",
    "    import wget"
   ]
  },
  {
   "cell_type": "code",
   "execution_count": null,
   "metadata": {},
   "outputs": [],
   "source": [
    "from verta import Client\n",
    "from verta.utils import ModelAPI\n",
    "\n",
    "client = Client(HOST)\n",
    "workspace=\"\"\n",
    "s3Bucket = \"\""
   ]
  },
  {
   "cell_type": "markdown",
   "metadata": {},
   "source": [
    "### Create Datasets"
   ]
  },
  {
   "cell_type": "code",
   "execution_count": null,
   "metadata": {},
   "outputs": [],
   "source": [
    "dataset1 = client.set_dataset(name=\"Demo Dataset S3\", type=\"s3\")\n",
    "print(\"Dataset 1: {}\".format(dataset1))\n",
    "\n",
    "dataset2 = client.set_dataset(name=\"Demo Dataset S3 - 2\", type=\"s3\", tags=[\"tag-1\",\"tag-2\",\"tag-3\"], desc=\"S3 Dataset with tags and description\")\n",
    "print(\"Dataset 2: {}\".format(dataset2))\n",
    "\n",
    "dataset3 = client.set_dataset(name=\"Demo Dataset S3 - 3\", type=\"s3\", workspace=workspace)\n",
    "print(\"Dataset 3: {}\".format(dataset3))"
   ]
  },
  {
   "cell_type": "markdown",
   "metadata": {},
   "source": [
    "### Add dataset tags"
   ]
  },
  {
   "cell_type": "code",
   "execution_count": null,
   "metadata": {},
   "outputs": [],
   "source": [
    "url = \"{}://{}/v1/dataset/addDatasetTags\".format(\n",
    "            client._conn.scheme,\n",
    "            client._conn.socket,\n",
    "        )\n",
    "payload = {\"id\":dataset3.id, \"tags\":[\"tag-1\",\"tag-2\",\"tag-3\",\"tag-4\"]}\n",
    "\n",
    "r = requests.post(url, json = payload, headers= client._conn.auth)\n",
    "r.json()"
   ]
  },
  {
   "cell_type": "markdown",
   "metadata": {},
   "source": [
    "### Get dataset tags (NOT_SUPPORTED)"
   ]
  },
  {
   "cell_type": "code",
   "execution_count": null,
   "metadata": {},
   "outputs": [],
   "source": [
    "url = \"{}://{}/v1/dataset/getDatasetTags\".format(\n",
    "            client._conn.scheme,\n",
    "            client._conn.socket,\n",
    "        )\n",
    "payload = {\"id\":dataset3.id}\n",
    "\n",
    "r = requests.get(url, json = payload, headers= client._conn.auth)\n",
    "r.json()"
   ]
  },
  {
   "cell_type": "markdown",
   "metadata": {},
   "source": [
    "### Delete selected dataset tags"
   ]
  },
  {
   "cell_type": "code",
   "execution_count": null,
   "metadata": {},
   "outputs": [],
   "source": [
    "url = \"{}://{}/v1/dataset/deleteDatasetTags\".format(\n",
    "            client._conn.scheme,\n",
    "            client._conn.socket,\n",
    "        )\n",
    "payload = {\"id\":dataset3.id, \"tags\":[\"tag-1\",\"tag-2\"]}\n",
    "\n",
    "r = requests.delete(url, json = payload, headers= client._conn.auth)\n",
    "r.json()"
   ]
  },
  {
   "cell_type": "markdown",
   "metadata": {},
   "source": [
    "### Delete all dataset tags using `delete_all` flag"
   ]
  },
  {
   "cell_type": "code",
   "execution_count": null,
   "metadata": {},
   "outputs": [],
   "source": [
    "url = \"{}://{}/v1/dataset/deleteDatasetTags\".format(\n",
    "            client._conn.scheme,\n",
    "            client._conn.socket,\n",
    "        )\n",
    "payload = {\"id\":dataset3.id, \"delete_all\":True}\n",
    "\n",
    "r = requests.delete(url, json = payload, headers= client._conn.auth)\n",
    "r.json()"
   ]
  },
  {
   "cell_type": "markdown",
   "metadata": {},
   "source": [
    "### Create DatasetVersions"
   ]
  },
  {
   "cell_type": "code",
   "execution_count": null,
   "metadata": {},
   "outputs": [],
   "source": [
    "version1 = dataset1.create_version(bucket_name=s3Bucket)\n",
    "print(\"version 1: {}\".format(version1.id))\n",
    "version2 = dataset1.create_version(bucket_name=s3Bucket, tags=[\"tag-1\",\"tag-2\"], desc=\"S3 DatasetVersion with tags and description\")\n",
    "print(\"version 2: {}\".format(version2.id))"
   ]
  },
  {
   "cell_type": "markdown",
   "metadata": {},
   "source": [
    "### Find DatasetVersions by `dataset_id` & `dataset_version_ids`"
   ]
  },
  {
   "cell_type": "code",
   "execution_count": null,
   "metadata": {},
   "outputs": [],
   "source": [
    "url = \"{}://{}/v1/dataset-version/findDatasetVersions\".format(\n",
    "            client._conn.scheme,\n",
    "            client._conn.socket,\n",
    "        )\n",
    "payload = {'dataset_id':dataset1.id, 'dataset_version_ids':[version1.id]}\n",
    "\n",
    "r = requests.post(url, json = payload, headers= client._conn.auth)\n",
    "r.json()"
   ]
  },
  {
   "cell_type": "markdown",
   "metadata": {},
   "source": [
    "### Find DatasetVersions by `dataset_id`"
   ]
  },
  {
   "cell_type": "code",
   "execution_count": null,
   "metadata": {},
   "outputs": [],
   "source": [
    "payload = {'dataset_id':dataset1.id}\n",
    "\n",
    "r = requests.post(url, json = payload, headers= client._conn.auth)\n",
    "r.json()"
   ]
  },
  {
   "cell_type": "markdown",
   "metadata": {},
   "source": [
    "### Find Datasets by Fuzzy `name` & `tags`"
   ]
  },
  {
   "cell_type": "code",
   "execution_count": null,
   "metadata": {},
   "outputs": [],
   "source": [
    "find_dataset_output = client.find_datasets(name=dataset1.name, tags=[\"tag-1\"]) #name field work with fuzzy match\n",
    "for output in find_dataset_output:\n",
    "    print(\"Find Datasets output: {}\".format(output))"
   ]
  },
  {
   "cell_type": "markdown",
   "metadata": {},
   "source": [
    "### Find Datasets(All) witout predicates"
   ]
  },
  {
   "cell_type": "code",
   "execution_count": null,
   "metadata": {},
   "outputs": [],
   "source": [
    "url = \"{}://{}/v1/dataset/findDatasets\".format(\n",
    "            client._conn.scheme,\n",
    "            client._conn.socket,\n",
    "        )\n",
    "payload = {}\n",
    "\n",
    "r = requests.post(url, json = payload, headers= client._conn.auth)\n",
    "r.json()"
   ]
  },
  {
   "cell_type": "markdown",
   "metadata": {},
   "source": [
    "## Features not supported on traditional dataset versions"
   ]
  },
  {
   "cell_type": "markdown",
   "metadata": {},
   "source": [
    "### S3Version ID"
   ]
  },
  {
   "cell_type": "code",
   "execution_count": null,
   "metadata": {},
   "outputs": [],
   "source": [
    "url = \"{}://{}/v1/dataset-version/createDatasetVersion\".format(\n",
    "            client._conn.scheme,\n",
    "            client._conn.socket,\n",
    "        )\n",
    "payload = {'dataset_id': dataset1.id,\n",
    "           'description': 'version with s3versionID',\n",
    "           'dataset_blob': {\n",
    "              's3': {\n",
    "                  'components':[\n",
    "                      {\n",
    "                          'path':{\n",
    "                              'path':'s3://my-bucket/my-file.txt',\n",
    "                              'size':123,\n",
    "                              'sha256': 'abcd',\n",
    "                              'internal_versioned_path': s3Bucket\n",
    "                          },\n",
    "                          's3_version_id':'a1b2c3d4'\n",
    "                      }\n",
    "                  ]\n",
    "              }\n",
    "           }\n",
    "          }\n",
    "\n",
    "r = requests.post(url, json = payload, headers= client._conn.auth)\n",
    "r.json()\n",
    "vertaManagedDatasetVersionId = r.json()['dataset_version']['id']\n",
    "print(\"vertaManagedDatasetVersionId: {}\".format(vertaManagedDatasetVersionId))"
   ]
  },
  {
   "cell_type": "markdown",
   "metadata": {},
   "source": [
    "### Verta managed Versioning (do not access dataset (protected repository))"
   ]
  },
  {
   "cell_type": "code",
   "execution_count": null,
   "metadata": {},
   "outputs": [],
   "source": [
    "url = \"https://datasetint.dev.verta.ai/v1/versioning/repositories/\"+dataset1.id+\"/commits/\"+vertaManagedDatasetVersionId+\"/getUrlForBlobVersioned\".format(\n",
    "            client._conn.scheme,\n",
    "            client._conn.socket,\n",
    "        )\n",
    "payload = {\n",
    "            \"repository_id\": {\n",
    "               \"repo_id\": dataset1.id\n",
    "            },\n",
    "            \"commit_sha\": vertaManagedDatasetVersionId,\n",
    "            \"location\": [\n",
    "                \"version\"\n",
    "            ],\n",
    "            \"path_dataset_component_blob_path\": \"s3://my-bucket/my-file.txt\",\n",
    "            \"method\": \"put\",\n",
    "            \"part_number\": 1\n",
    "        }\n",
    "\n",
    "r = requests.post(url, json = payload, headers= client._conn.auth)\n",
    "r.json()\n"
   ]
  },
  {
   "cell_type": "markdown",
   "metadata": {},
   "source": [
    "### Delete Dataset by ID"
   ]
  },
  {
   "cell_type": "code",
   "execution_count": null,
   "metadata": {},
   "outputs": [],
   "source": [
    "url = \"{}://{}/v1/dataset/deleteDataset\".format(\n",
    "            client._conn.scheme,\n",
    "            client._conn.socket,\n",
    "        )\n",
    "payload = {'id':dataset1.id}\n",
    "\n",
    "r = requests.delete(url, json = payload, headers= client._conn.auth)\n",
    "r.json()"
   ]
  },
  {
   "cell_type": "markdown",
   "metadata": {},
   "source": [
    "### Delete datasets in bulk"
   ]
  },
  {
   "cell_type": "code",
   "execution_count": null,
   "metadata": {},
   "outputs": [],
   "source": [
    "url = \"{}://{}/v1/dataset/deleteDatasets\".format(\n",
    "            client._conn.scheme,\n",
    "            client._conn.socket,\n",
    "        )\n",
    "payload = {'ids':[dataset2.id, dataset3.id]}\n",
    "\n",
    "r = requests.delete(url, json = payload, headers= client._conn.auth)\n",
    "r.json()"
   ]
  },
  {
   "cell_type": "code",
   "execution_count": null,
   "metadata": {},
   "outputs": [],
   "source": []
  }
 ],
 "metadata": {
  "kernelspec": {
   "display_name": "Python 3",
   "language": "python",
   "name": "python3"
  },
  "language_info": {
   "codemirror_mode": {
    "name": "ipython",
    "version": 3
   },
   "file_extension": ".py",
   "mimetype": "text/x-python",
   "name": "python",
   "nbconvert_exporter": "python",
   "pygments_lexer": "ipython3",
   "version": "3.7.6"
  }
 },
 "nbformat": 4,
 "nbformat_minor": 2
}
