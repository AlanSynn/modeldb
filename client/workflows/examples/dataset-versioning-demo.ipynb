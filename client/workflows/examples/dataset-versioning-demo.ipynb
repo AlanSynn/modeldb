{
 "cells": [
  {
   "cell_type": "code",
   "execution_count": 1,
   "metadata": {},
   "outputs": [],
   "source": [
    "# restart your notebook if prompted on Colab\n",
    "try:\n",
    "    import verta\n",
    "except ImportError:\n",
    "    !pip install verta"
   ]
  },
  {
   "cell_type": "code",
   "execution_count": 2,
   "metadata": {},
   "outputs": [],
   "source": [
    "HOST = \"datasetint.dev.verta.ai\""
   ]
  },
  {
   "cell_type": "code",
   "execution_count": 3,
   "metadata": {},
   "outputs": [
    {
     "data": {
      "text/plain": [
       "'ravi@verta.ai'"
      ]
     },
     "execution_count": 3,
     "metadata": {},
     "output_type": "execute_result"
    }
   ],
   "source": [
    "import os\n",
    "#os.environ['VERTA_EMAIL'] = ''\n",
    "#os.environ['VERTA_DEV_KEY'] = ''\n",
    "os.environ['VERTA_EMAIL']"
   ]
  },
  {
   "cell_type": "code",
   "execution_count": 4,
   "metadata": {},
   "outputs": [],
   "source": [
    "from __future__ import print_function\n",
    "\n",
    "import warnings\n",
    "from sklearn.exceptions import ConvergenceWarning\n",
    "warnings.filterwarnings(\"ignore\", category=ConvergenceWarning)\n",
    "warnings.filterwarnings(\"ignore\", category=FutureWarning)\n",
    "\n",
    "import itertools\n",
    "import os\n",
    "import time\n",
    "import requests\n",
    "\n",
    "import six\n",
    "\n",
    "import numpy as np\n",
    "import pandas as pd\n",
    "\n",
    "import sklearn\n",
    "from sklearn import model_selection\n",
    "from sklearn import linear_model\n",
    "from sklearn import metrics\n",
    "import json"
   ]
  },
  {
   "cell_type": "code",
   "execution_count": 5,
   "metadata": {},
   "outputs": [],
   "source": [
    "try:\n",
    "    import wget\n",
    "except ImportError:\n",
    "    !pip install wget  # you may need pip3\n",
    "    import wget"
   ]
  },
  {
   "cell_type": "code",
   "execution_count": 6,
   "metadata": {},
   "outputs": [
    {
     "name": "stdout",
     "output_type": "stream",
     "text": [
      "set email from environment\n",
      "set developer key from environment\n",
      "connection successfully established\n"
     ]
    }
   ],
   "source": [
    "from verta import Client\n",
    "from verta.utils import ModelAPI\n",
    "\n",
    "client = Client(HOST)"
   ]
  },
  {
   "cell_type": "markdown",
   "metadata": {},
   "source": [
    "### Create Datasets"
   ]
  },
  {
   "cell_type": "code",
   "execution_count": 7,
   "metadata": {},
   "outputs": [
    {
     "name": "stdout",
     "output_type": "stream",
     "text": [
      "created new Dataset: Demo Dataset S3 in personal workspace\n",
      "Dataset 1: id: \"30041\"\n",
      "name: \"Demo Dataset S3\"\n",
      "owner: \"1003\"\n",
      "time_created: 1593669967979\n",
      "time_updated: 1593669967979\n",
      "workspace_id: \"1003\"\n",
      "workspace_type: USER\n",
      "\n",
      "created new Dataset: Demo Dataset S3 - 2 in personal workspace\n",
      "Dataset 2: id: \"30042\"\n",
      "name: \"Demo Dataset S3 - 2\"\n",
      "owner: \"1003\"\n",
      "description: \"S3 Dataset with tags and description\"\n",
      "tags: \"tag-1\"\n",
      "tags: \"tag-2\"\n",
      "tags: \"tag-3\"\n",
      "time_created: 1593669969164\n",
      "time_updated: 1593669969164\n",
      "workspace_id: \"1003\"\n",
      "workspace_type: USER\n",
      "\n",
      "created new Dataset: Demo Dataset S3 - 3 in workspace: Ravi_Shetye\n",
      "Dataset 3: id: \"40\"\n",
      "name: \"Demo Dataset S3 - 3\"\n",
      "owner: \"1003\"\n",
      "time_created: 1593669970304\n",
      "time_updated: 1593669970304\n",
      "workspace_id: \"1003\"\n",
      "workspace_type: USER\n",
      "\n"
     ]
    }
   ],
   "source": [
    "dataset1 = client.set_dataset(name=\"Demo Dataset S3\", type=\"s3\")\n",
    "print(\"Dataset 1: {}\".format(dataset1))\n",
    "\n",
    "dataset2 = client.set_dataset(name=\"Demo Dataset S3 - 2\", type=\"s3\", tags=[\"tag-1\",\"tag-2\",\"tag-3\"], desc=\"S3 Dataset with tags and description\")\n",
    "print(\"Dataset 2: {}\".format(dataset2))\n",
    "\n",
    "#dataset3 = client.set_dataset(name=\"Demo Dataset S3 - 3\", type=\"s3\", workspace=\"Anand_Jakhaniya\")\n",
    "dataset3 = client.set_dataset(name=\"Demo Dataset S3 - 3\", type=\"s3\", workspace=\"Ravi_Shetye\")\n",
    "print(\"Dataset 3: {}\".format(dataset3))"
   ]
  },
  {
   "cell_type": "markdown",
   "metadata": {},
   "source": [
    "### Add dataset tags"
   ]
  },
  {
   "cell_type": "code",
   "execution_count": 8,
   "metadata": {},
   "outputs": [
    {
     "data": {
      "text/plain": [
       "{'dataset': {'id': '40',\n",
       "  'name': 'Demo Dataset S3 - 3',\n",
       "  'owner': '1003',\n",
       "  'tags': ['tag-1', 'tag-2', 'tag-3', 'tag-4'],\n",
       "  'time_created': '1593669970304',\n",
       "  'time_updated': '1593669971474',\n",
       "  'workspace_id': '1003',\n",
       "  'workspace_type': 'USER'}}"
      ]
     },
     "execution_count": 8,
     "metadata": {},
     "output_type": "execute_result"
    }
   ],
   "source": [
    "url = \"{}://{}/v1/dataset/addDatasetTags\".format(\n",
    "            client._conn.scheme,\n",
    "            client._conn.socket,\n",
    "        )\n",
    "#Message = client._DatasetVersionService.FindDatasetVersions\n",
    "payload = {\"id\":dataset3.id, \"tags\":[\"tag-1\",\"tag-2\",\"tag-3\",\"tag-4\"]}\n",
    "#payload = {'key1': 'value1', 'key2': 'value2'}\n",
    "\n",
    "r = requests.post(url, json = payload, headers= client._conn.auth)\n",
    "#r = requests.Request('POST', url, data = msg, headers= client._conn.auth)\n",
    "r.json()"
   ]
  },
  {
   "cell_type": "markdown",
   "metadata": {},
   "source": [
    "### Get dataset tags (NOT_SUPPORTED)"
   ]
  },
  {
   "cell_type": "code",
   "execution_count": 9,
   "metadata": {},
   "outputs": [
    {
     "data": {
      "text/plain": [
       "{'error': 'Not supported',\n",
       " 'code': 12,\n",
       " 'message': 'Not supported',\n",
       " 'details': [{'@type': 'type.googleapis.com/ai.verta.modeldb.GetTags.Response'}]}"
      ]
     },
     "execution_count": 9,
     "metadata": {},
     "output_type": "execute_result"
    }
   ],
   "source": [
    "url = \"{}://{}/v1/dataset/getDatasetTags\".format(\n",
    "            client._conn.scheme,\n",
    "            client._conn.socket,\n",
    "        )\n",
    "#Message = client._DatasetVersionService.FindDatasetVersions\n",
    "payload = {\"id\":dataset3.id}\n",
    "#payload = {'key1': 'value1', 'key2': 'value2'}\n",
    "\n",
    "r = requests.get(url, json = payload, headers= client._conn.auth)\n",
    "#r = requests.Request('POST', url, data = msg, headers= client._conn.auth)\n",
    "r.json()"
   ]
  },
  {
   "cell_type": "markdown",
   "metadata": {},
   "source": [
    "### Delete selected dataset tags"
   ]
  },
  {
   "cell_type": "code",
   "execution_count": 10,
   "metadata": {},
   "outputs": [
    {
     "data": {
      "text/plain": [
       "{'dataset': {'id': '40',\n",
       "  'name': 'Demo Dataset S3 - 3',\n",
       "  'owner': '1003',\n",
       "  'tags': ['tag-3', 'tag-4'],\n",
       "  'time_created': '1593669970304',\n",
       "  'time_updated': '1593669972614',\n",
       "  'workspace_id': '1003',\n",
       "  'workspace_type': 'USER'}}"
      ]
     },
     "execution_count": 10,
     "metadata": {},
     "output_type": "execute_result"
    }
   ],
   "source": [
    "url = \"{}://{}/v1/dataset/deleteDatasetTags\".format(\n",
    "            client._conn.scheme,\n",
    "            client._conn.socket,\n",
    "        )\n",
    "#Message = client._DatasetVersionService.FindDatasetVersions\n",
    "payload = {\"id\":dataset3.id, \"tags\":[\"tag-1\",\"tag-2\"]}\n",
    "#payload = {'key1': 'value1', 'key2': 'value2'}\n",
    "\n",
    "r = requests.delete(url, json = payload, headers= client._conn.auth)\n",
    "#r = requests.Request('POST', url, data = msg, headers= client._conn.auth)\n",
    "r.json()"
   ]
  },
  {
   "cell_type": "markdown",
   "metadata": {},
   "source": [
    "### Delete all dataset tags using `delete_all` flag"
   ]
  },
  {
   "cell_type": "code",
   "execution_count": 11,
   "metadata": {},
   "outputs": [
    {
     "data": {
      "text/plain": [
       "{'dataset': {'id': '40',\n",
       "  'name': 'Demo Dataset S3 - 3',\n",
       "  'owner': '1003',\n",
       "  'time_created': '1593669970304',\n",
       "  'time_updated': '1593669973179',\n",
       "  'workspace_id': '1003',\n",
       "  'workspace_type': 'USER'}}"
      ]
     },
     "execution_count": 11,
     "metadata": {},
     "output_type": "execute_result"
    }
   ],
   "source": [
    "url = \"{}://{}/v1/dataset/deleteDatasetTags\".format(\n",
    "            client._conn.scheme,\n",
    "            client._conn.socket,\n",
    "        )\n",
    "#Message = client._DatasetVersionService.FindDatasetVersions\n",
    "payload = {\"id\":dataset3.id, \"delete_all\":True}\n",
    "#payload = {'key1': 'value1', 'key2': 'value2'}\n",
    "\n",
    "r = requests.delete(url, json = payload, headers= client._conn.auth)\n",
    "#r = requests.Request('POST', url, data = msg, headers= client._conn.auth)\n",
    "r.json()"
   ]
  },
  {
   "cell_type": "markdown",
   "metadata": {},
   "source": [
    "### Create DatasetVersions"
   ]
  },
  {
   "cell_type": "code",
   "execution_count": 12,
   "metadata": {},
   "outputs": [
    {
     "name": "stdout",
     "output_type": "stream",
     "text": [
      "created new DatasetVersion: 0\n",
      "version 1: e63ba706d8f11fe895a2dcad991abba1f9feb7950a9fd463f5f38bfb71069083\n",
      "created new DatasetVersion: 0\n",
      "version 2: 871afb697a4d3ab65eaab376236763bf86b3e5a6e6f23afd637dc5613c2cdf1e\n"
     ]
    }
   ],
   "source": [
    "version1 = dataset1.create_version(bucket_name=\"verta-starter\")\n",
    "print(\"version 1: {}\".format(version1.id))\n",
    "version2 = dataset1.create_version(bucket_name=\"verta-starter\", tags=[\"tag-1\",\"tag-2\"], desc=\"S3 DatasetVersion with tags and description\")\n",
    "print(\"version 2: {}\".format(version2.id))"
   ]
  },
  {
   "cell_type": "code",
   "execution_count": 13,
   "metadata": {},
   "outputs": [
    {
     "data": {
      "text/plain": [
       "location_type: S3_FILE_SYSTEM\n",
       "size: 370364312\n",
       "dataset_part_infos {\n",
       "  path: \"spam.csv\"\n",
       "  size: 503663\n",
       "  checksum: \"\\\"008dcf9ca6aab621d3b3831db6815867\\\"\"\n",
       "  last_modified_at_source: 1574898082000\n",
       "}\n",
       "dataset_part_infos {\n",
       "  path: \"census-cleaned.csv\"\n",
       "  size: 9950413\n",
       "  checksum: \"\\\"7b0b17a5271852616ed19a72914e776d\\\"\"\n",
       "  last_modified_at_source: 1590635928000\n",
       "}\n",
       "dataset_part_infos {\n",
       "  path: \"english-tweets.csv\"\n",
       "  size: 124090700\n",
       "  checksum: \"\\\"15da0ba7835922e239a43a6ec2a8356c-8\\\"\"\n",
       "  last_modified_at_source: 1584653133000\n",
       "}\n",
       "dataset_part_infos {\n",
       "  path: \"reviews.ann\"\n",
       "  size: 22029640\n",
       "  checksum: \"\\\"f5887481b609b7dba1974a9ef9deac79-3\\\"\"\n",
       "  last_modified_at_source: 1574904181000\n",
       "}\n",
       "dataset_part_infos {\n",
       "  path: \"positive-english-tweets.csv\"\n",
       "  size: 61900256\n",
       "  checksum: \"\\\"9a1c0f0d272bfb2db20fe5791e6483d3-4\\\"\"\n",
       "  last_modified_at_source: 1584653133000\n",
       "}\n",
       "dataset_part_infos {\n",
       "  path: \"german-tweets.csv\"\n",
       "  size: 3197125\n",
       "  checksum: \"\\\"afcc5b2bc3b206f786c45e72b87e44fa\\\"\"\n",
       "  last_modified_at_source: 1584653133000\n",
       "}\n",
       "dataset_part_infos {\n",
       "  path: \"models/model.pkl\"\n",
       "  size: 1030\n",
       "  checksum: \"\\\"858843b1b8e2110d8d753fdeba13a01e\\\"\"\n",
       "  last_modified_at_source: 1589488055000\n",
       "}\n",
       "dataset_part_infos {\n",
       "  path: \"imdb_master.csv\"\n",
       "  size: 135469499\n",
       "  checksum: \"\\\"1c2a44de2976d799abbd2e05c319d5a1-8\\\"\"\n",
       "  last_modified_at_source: 1572052810000\n",
       "}\n",
       "dataset_part_infos {\n",
       "  path: \"census-train.csv\"\n",
       "  size: 3271573\n",
       "  checksum: \"\\\"64af2ff44dd04acceb277d024939b619\\\"\"\n",
       "  last_modified_at_source: 1558707926000\n",
       "}\n",
       "dataset_part_infos {\n",
       "  path: \"census-test.csv\"\n",
       "  size: 9950413\n",
       "  checksum: \"\\\"237528c3db20fc6352db67a374ceaf3f-2\\\"\"\n",
       "  last_modified_at_source: 1558707913000\n",
       "}\n",
       "dataset_part_infos {\n",
       "  path: \"models/\"\n",
       "  checksum: \"\\\"d41d8cd98f00b204e9800998ecf8427e\\\"\"\n",
       "  last_modified_at_source: 1589487938000\n",
       "}\n",
       "base_path: \"version\""
      ]
     },
     "execution_count": 13,
     "metadata": {},
     "output_type": "execute_result"
    }
   ],
   "source": [
    "version1"
   ]
  },
  {
   "cell_type": "markdown",
   "metadata": {},
   "source": [
    "### Find DatasetVersions by `dataset_id` & `dataset_version_ids`"
   ]
  },
  {
   "cell_type": "code",
   "execution_count": 14,
   "metadata": {},
   "outputs": [
    {
     "data": {
      "text/plain": [
       "{'dataset_versions': [{'id': 'e63ba706d8f11fe895a2dcad991abba1f9feb7950a9fd463f5f38bfb71069083',\n",
       "   'parent_id': '0ed1f63290cd10df833c27a9968e58aefd9bbb71c6e1bfdd533dedb53a4d098e',\n",
       "   'dataset_id': '30041',\n",
       "   'time_logged': '1593669974379',\n",
       "   'owner': '1003',\n",
       "   'path_dataset_version_info': {'location_type': 'S3_FILE_SYSTEM',\n",
       "    'size': '370364312',\n",
       "    'dataset_part_infos': [{'path': 'spam.csv',\n",
       "      'size': '503663',\n",
       "      'checksum': '\"008dcf9ca6aab621d3b3831db6815867\"',\n",
       "      'last_modified_at_source': '1574898082000'},\n",
       "     {'path': 'census-cleaned.csv',\n",
       "      'size': '9950413',\n",
       "      'checksum': '\"7b0b17a5271852616ed19a72914e776d\"',\n",
       "      'last_modified_at_source': '1590635928000'},\n",
       "     {'path': 'english-tweets.csv',\n",
       "      'size': '124090700',\n",
       "      'checksum': '\"15da0ba7835922e239a43a6ec2a8356c-8\"',\n",
       "      'last_modified_at_source': '1584653133000'},\n",
       "     {'path': 'reviews.ann',\n",
       "      'size': '22029640',\n",
       "      'checksum': '\"f5887481b609b7dba1974a9ef9deac79-3\"',\n",
       "      'last_modified_at_source': '1574904181000'},\n",
       "     {'path': 'positive-english-tweets.csv',\n",
       "      'size': '61900256',\n",
       "      'checksum': '\"9a1c0f0d272bfb2db20fe5791e6483d3-4\"',\n",
       "      'last_modified_at_source': '1584653133000'},\n",
       "     {'path': 'german-tweets.csv',\n",
       "      'size': '3197125',\n",
       "      'checksum': '\"afcc5b2bc3b206f786c45e72b87e44fa\"',\n",
       "      'last_modified_at_source': '1584653133000'},\n",
       "     {'path': 'models/model.pkl',\n",
       "      'size': '1030',\n",
       "      'checksum': '\"858843b1b8e2110d8d753fdeba13a01e\"',\n",
       "      'last_modified_at_source': '1589488055000'},\n",
       "     {'path': 'imdb_master.csv',\n",
       "      'size': '135469499',\n",
       "      'checksum': '\"1c2a44de2976d799abbd2e05c319d5a1-8\"',\n",
       "      'last_modified_at_source': '1572052810000'},\n",
       "     {'path': 'census-train.csv',\n",
       "      'size': '3271573',\n",
       "      'checksum': '\"64af2ff44dd04acceb277d024939b619\"',\n",
       "      'last_modified_at_source': '1558707926000'},\n",
       "     {'path': 'census-test.csv',\n",
       "      'size': '9950413',\n",
       "      'checksum': '\"237528c3db20fc6352db67a374ceaf3f-2\"',\n",
       "      'last_modified_at_source': '1558707913000'},\n",
       "     {'path': 'models/',\n",
       "      'checksum': '\"d41d8cd98f00b204e9800998ecf8427e\"',\n",
       "      'last_modified_at_source': '1589487938000'}],\n",
       "    'base_path': 'version'},\n",
       "   'time_updated': '1593669974379',\n",
       "   'dataset_blob': {'s3': {'components': [{'path': {'path': 'spam.csv',\n",
       "        'size': '503663',\n",
       "        'last_modified_at_source': '1574898082000',\n",
       "        'md5': '\"008dcf9ca6aab621d3b3831db6815867\"'}},\n",
       "      {'path': {'path': 'census-cleaned.csv',\n",
       "        'size': '9950413',\n",
       "        'last_modified_at_source': '1590635928000',\n",
       "        'md5': '\"7b0b17a5271852616ed19a72914e776d\"'}},\n",
       "      {'path': {'path': 'english-tweets.csv',\n",
       "        'size': '124090700',\n",
       "        'last_modified_at_source': '1584653133000',\n",
       "        'md5': '\"15da0ba7835922e239a43a6ec2a8356c-8\"'}},\n",
       "      {'path': {'path': 'reviews.ann',\n",
       "        'size': '22029640',\n",
       "        'last_modified_at_source': '1574904181000',\n",
       "        'md5': '\"f5887481b609b7dba1974a9ef9deac79-3\"'}},\n",
       "      {'path': {'path': 'positive-english-tweets.csv',\n",
       "        'size': '61900256',\n",
       "        'last_modified_at_source': '1584653133000',\n",
       "        'md5': '\"9a1c0f0d272bfb2db20fe5791e6483d3-4\"'}},\n",
       "      {'path': {'path': 'german-tweets.csv',\n",
       "        'size': '3197125',\n",
       "        'last_modified_at_source': '1584653133000',\n",
       "        'md5': '\"afcc5b2bc3b206f786c45e72b87e44fa\"'}},\n",
       "      {'path': {'path': 'models/model.pkl',\n",
       "        'size': '1030',\n",
       "        'last_modified_at_source': '1589488055000',\n",
       "        'md5': '\"858843b1b8e2110d8d753fdeba13a01e\"'}},\n",
       "      {'path': {'path': 'imdb_master.csv',\n",
       "        'size': '135469499',\n",
       "        'last_modified_at_source': '1572052810000',\n",
       "        'md5': '\"1c2a44de2976d799abbd2e05c319d5a1-8\"'}},\n",
       "      {'path': {'path': 'census-train.csv',\n",
       "        'size': '3271573',\n",
       "        'last_modified_at_source': '1558707926000',\n",
       "        'md5': '\"64af2ff44dd04acceb277d024939b619\"'}},\n",
       "      {'path': {'path': 'census-test.csv',\n",
       "        'size': '9950413',\n",
       "        'last_modified_at_source': '1558707913000',\n",
       "        'md5': '\"237528c3db20fc6352db67a374ceaf3f-2\"'}},\n",
       "      {'path': {'path': 'models/',\n",
       "        'last_modified_at_source': '1589487938000',\n",
       "        'md5': '\"d41d8cd98f00b204e9800998ecf8427e\"'}}]}}}],\n",
       " 'total_records': '1'}"
      ]
     },
     "execution_count": 14,
     "metadata": {},
     "output_type": "execute_result"
    }
   ],
   "source": [
    "url = \"{}://{}/v1/dataset-version/findDatasetVersions\".format(\n",
    "            client._conn.scheme,\n",
    "            client._conn.socket,\n",
    "        )\n",
    "#Message = client._DatasetVersionService.FindDatasetVersions\n",
    "payload = {'dataset_id':dataset1.id, 'dataset_version_ids':[version1.id]}\n",
    "#payload = {'key1': 'value1', 'key2': 'value2'}\n",
    "\n",
    "r = requests.post(url, json = payload, headers= client._conn.auth)\n",
    "#r = requests.Request('POST', url, data = msg, headers= client._conn.auth)\n",
    "r.json()"
   ]
  },
  {
   "cell_type": "markdown",
   "metadata": {},
   "source": [
    "### Find DatasetVersions by `dataset_id`"
   ]
  },
  {
   "cell_type": "code",
   "execution_count": 15,
   "metadata": {},
   "outputs": [
    {
     "data": {
      "text/plain": [
       "{'dataset_versions': [{'id': '871afb697a4d3ab65eaab376236763bf86b3e5a6e6f23afd637dc5613c2cdf1e',\n",
       "   'parent_id': 'e63ba706d8f11fe895a2dcad991abba1f9feb7950a9fd463f5f38bfb71069083',\n",
       "   'dataset_id': '30041',\n",
       "   'time_logged': '1593669975619',\n",
       "   'description': 'S3 DatasetVersion with tags and description',\n",
       "   'tags': ['tag-1', 'tag-2'],\n",
       "   'owner': '1003',\n",
       "   'path_dataset_version_info': {'location_type': 'S3_FILE_SYSTEM',\n",
       "    'size': '370364312',\n",
       "    'dataset_part_infos': [{'path': 'spam.csv',\n",
       "      'size': '503663',\n",
       "      'checksum': '\"008dcf9ca6aab621d3b3831db6815867\"',\n",
       "      'last_modified_at_source': '1574898082000'},\n",
       "     {'path': 'census-cleaned.csv',\n",
       "      'size': '9950413',\n",
       "      'checksum': '\"7b0b17a5271852616ed19a72914e776d\"',\n",
       "      'last_modified_at_source': '1590635928000'},\n",
       "     {'path': 'english-tweets.csv',\n",
       "      'size': '124090700',\n",
       "      'checksum': '\"15da0ba7835922e239a43a6ec2a8356c-8\"',\n",
       "      'last_modified_at_source': '1584653133000'},\n",
       "     {'path': 'reviews.ann',\n",
       "      'size': '22029640',\n",
       "      'checksum': '\"f5887481b609b7dba1974a9ef9deac79-3\"',\n",
       "      'last_modified_at_source': '1574904181000'},\n",
       "     {'path': 'positive-english-tweets.csv',\n",
       "      'size': '61900256',\n",
       "      'checksum': '\"9a1c0f0d272bfb2db20fe5791e6483d3-4\"',\n",
       "      'last_modified_at_source': '1584653133000'},\n",
       "     {'path': 'german-tweets.csv',\n",
       "      'size': '3197125',\n",
       "      'checksum': '\"afcc5b2bc3b206f786c45e72b87e44fa\"',\n",
       "      'last_modified_at_source': '1584653133000'},\n",
       "     {'path': 'models/model.pkl',\n",
       "      'size': '1030',\n",
       "      'checksum': '\"858843b1b8e2110d8d753fdeba13a01e\"',\n",
       "      'last_modified_at_source': '1589488055000'},\n",
       "     {'path': 'imdb_master.csv',\n",
       "      'size': '135469499',\n",
       "      'checksum': '\"1c2a44de2976d799abbd2e05c319d5a1-8\"',\n",
       "      'last_modified_at_source': '1572052810000'},\n",
       "     {'path': 'census-train.csv',\n",
       "      'size': '3271573',\n",
       "      'checksum': '\"64af2ff44dd04acceb277d024939b619\"',\n",
       "      'last_modified_at_source': '1558707926000'},\n",
       "     {'path': 'census-test.csv',\n",
       "      'size': '9950413',\n",
       "      'checksum': '\"237528c3db20fc6352db67a374ceaf3f-2\"',\n",
       "      'last_modified_at_source': '1558707913000'},\n",
       "     {'path': 'models/',\n",
       "      'checksum': '\"d41d8cd98f00b204e9800998ecf8427e\"',\n",
       "      'last_modified_at_source': '1589487938000'}],\n",
       "    'base_path': 'version'},\n",
       "   'time_updated': '1593669975619',\n",
       "   'dataset_blob': {'s3': {'components': [{'path': {'path': 'spam.csv',\n",
       "        'size': '503663',\n",
       "        'last_modified_at_source': '1574898082000',\n",
       "        'md5': '\"008dcf9ca6aab621d3b3831db6815867\"'}},\n",
       "      {'path': {'path': 'census-cleaned.csv',\n",
       "        'size': '9950413',\n",
       "        'last_modified_at_source': '1590635928000',\n",
       "        'md5': '\"7b0b17a5271852616ed19a72914e776d\"'}},\n",
       "      {'path': {'path': 'english-tweets.csv',\n",
       "        'size': '124090700',\n",
       "        'last_modified_at_source': '1584653133000',\n",
       "        'md5': '\"15da0ba7835922e239a43a6ec2a8356c-8\"'}},\n",
       "      {'path': {'path': 'reviews.ann',\n",
       "        'size': '22029640',\n",
       "        'last_modified_at_source': '1574904181000',\n",
       "        'md5': '\"f5887481b609b7dba1974a9ef9deac79-3\"'}},\n",
       "      {'path': {'path': 'positive-english-tweets.csv',\n",
       "        'size': '61900256',\n",
       "        'last_modified_at_source': '1584653133000',\n",
       "        'md5': '\"9a1c0f0d272bfb2db20fe5791e6483d3-4\"'}},\n",
       "      {'path': {'path': 'german-tweets.csv',\n",
       "        'size': '3197125',\n",
       "        'last_modified_at_source': '1584653133000',\n",
       "        'md5': '\"afcc5b2bc3b206f786c45e72b87e44fa\"'}},\n",
       "      {'path': {'path': 'models/model.pkl',\n",
       "        'size': '1030',\n",
       "        'last_modified_at_source': '1589488055000',\n",
       "        'md5': '\"858843b1b8e2110d8d753fdeba13a01e\"'}},\n",
       "      {'path': {'path': 'imdb_master.csv',\n",
       "        'size': '135469499',\n",
       "        'last_modified_at_source': '1572052810000',\n",
       "        'md5': '\"1c2a44de2976d799abbd2e05c319d5a1-8\"'}},\n",
       "      {'path': {'path': 'census-train.csv',\n",
       "        'size': '3271573',\n",
       "        'last_modified_at_source': '1558707926000',\n",
       "        'md5': '\"64af2ff44dd04acceb277d024939b619\"'}},\n",
       "      {'path': {'path': 'census-test.csv',\n",
       "        'size': '9950413',\n",
       "        'last_modified_at_source': '1558707913000',\n",
       "        'md5': '\"237528c3db20fc6352db67a374ceaf3f-2\"'}},\n",
       "      {'path': {'path': 'models/',\n",
       "        'last_modified_at_source': '1589487938000',\n",
       "        'md5': '\"d41d8cd98f00b204e9800998ecf8427e\"'}}]}}},\n",
       "  {'id': 'e63ba706d8f11fe895a2dcad991abba1f9feb7950a9fd463f5f38bfb71069083',\n",
       "   'parent_id': '0ed1f63290cd10df833c27a9968e58aefd9bbb71c6e1bfdd533dedb53a4d098e',\n",
       "   'dataset_id': '30041',\n",
       "   'time_logged': '1593669974379',\n",
       "   'owner': '1003',\n",
       "   'path_dataset_version_info': {'location_type': 'S3_FILE_SYSTEM',\n",
       "    'size': '370364312',\n",
       "    'dataset_part_infos': [{'path': 'spam.csv',\n",
       "      'size': '503663',\n",
       "      'checksum': '\"008dcf9ca6aab621d3b3831db6815867\"',\n",
       "      'last_modified_at_source': '1574898082000'},\n",
       "     {'path': 'census-cleaned.csv',\n",
       "      'size': '9950413',\n",
       "      'checksum': '\"7b0b17a5271852616ed19a72914e776d\"',\n",
       "      'last_modified_at_source': '1590635928000'},\n",
       "     {'path': 'english-tweets.csv',\n",
       "      'size': '124090700',\n",
       "      'checksum': '\"15da0ba7835922e239a43a6ec2a8356c-8\"',\n",
       "      'last_modified_at_source': '1584653133000'},\n",
       "     {'path': 'reviews.ann',\n",
       "      'size': '22029640',\n",
       "      'checksum': '\"f5887481b609b7dba1974a9ef9deac79-3\"',\n",
       "      'last_modified_at_source': '1574904181000'},\n",
       "     {'path': 'positive-english-tweets.csv',\n",
       "      'size': '61900256',\n",
       "      'checksum': '\"9a1c0f0d272bfb2db20fe5791e6483d3-4\"',\n",
       "      'last_modified_at_source': '1584653133000'},\n",
       "     {'path': 'german-tweets.csv',\n",
       "      'size': '3197125',\n",
       "      'checksum': '\"afcc5b2bc3b206f786c45e72b87e44fa\"',\n",
       "      'last_modified_at_source': '1584653133000'},\n",
       "     {'path': 'models/model.pkl',\n",
       "      'size': '1030',\n",
       "      'checksum': '\"858843b1b8e2110d8d753fdeba13a01e\"',\n",
       "      'last_modified_at_source': '1589488055000'},\n",
       "     {'path': 'imdb_master.csv',\n",
       "      'size': '135469499',\n",
       "      'checksum': '\"1c2a44de2976d799abbd2e05c319d5a1-8\"',\n",
       "      'last_modified_at_source': '1572052810000'},\n",
       "     {'path': 'census-train.csv',\n",
       "      'size': '3271573',\n",
       "      'checksum': '\"64af2ff44dd04acceb277d024939b619\"',\n",
       "      'last_modified_at_source': '1558707926000'},\n",
       "     {'path': 'census-test.csv',\n",
       "      'size': '9950413',\n",
       "      'checksum': '\"237528c3db20fc6352db67a374ceaf3f-2\"',\n",
       "      'last_modified_at_source': '1558707913000'},\n",
       "     {'path': 'models/',\n",
       "      'checksum': '\"d41d8cd98f00b204e9800998ecf8427e\"',\n",
       "      'last_modified_at_source': '1589487938000'}],\n",
       "    'base_path': 'version'},\n",
       "   'time_updated': '1593669974379',\n",
       "   'dataset_blob': {'s3': {'components': [{'path': {'path': 'spam.csv',\n",
       "        'size': '503663',\n",
       "        'last_modified_at_source': '1574898082000',\n",
       "        'md5': '\"008dcf9ca6aab621d3b3831db6815867\"'}},\n",
       "      {'path': {'path': 'census-cleaned.csv',\n",
       "        'size': '9950413',\n",
       "        'last_modified_at_source': '1590635928000',\n",
       "        'md5': '\"7b0b17a5271852616ed19a72914e776d\"'}},\n",
       "      {'path': {'path': 'english-tweets.csv',\n",
       "        'size': '124090700',\n",
       "        'last_modified_at_source': '1584653133000',\n",
       "        'md5': '\"15da0ba7835922e239a43a6ec2a8356c-8\"'}},\n",
       "      {'path': {'path': 'reviews.ann',\n",
       "        'size': '22029640',\n",
       "        'last_modified_at_source': '1574904181000',\n",
       "        'md5': '\"f5887481b609b7dba1974a9ef9deac79-3\"'}},\n",
       "      {'path': {'path': 'positive-english-tweets.csv',\n",
       "        'size': '61900256',\n",
       "        'last_modified_at_source': '1584653133000',\n",
       "        'md5': '\"9a1c0f0d272bfb2db20fe5791e6483d3-4\"'}},\n",
       "      {'path': {'path': 'german-tweets.csv',\n",
       "        'size': '3197125',\n",
       "        'last_modified_at_source': '1584653133000',\n",
       "        'md5': '\"afcc5b2bc3b206f786c45e72b87e44fa\"'}},\n",
       "      {'path': {'path': 'models/model.pkl',\n",
       "        'size': '1030',\n",
       "        'last_modified_at_source': '1589488055000',\n",
       "        'md5': '\"858843b1b8e2110d8d753fdeba13a01e\"'}},\n",
       "      {'path': {'path': 'imdb_master.csv',\n",
       "        'size': '135469499',\n",
       "        'last_modified_at_source': '1572052810000',\n",
       "        'md5': '\"1c2a44de2976d799abbd2e05c319d5a1-8\"'}},\n",
       "      {'path': {'path': 'census-train.csv',\n",
       "        'size': '3271573',\n",
       "        'last_modified_at_source': '1558707926000',\n",
       "        'md5': '\"64af2ff44dd04acceb277d024939b619\"'}},\n",
       "      {'path': {'path': 'census-test.csv',\n",
       "        'size': '9950413',\n",
       "        'last_modified_at_source': '1558707913000',\n",
       "        'md5': '\"237528c3db20fc6352db67a374ceaf3f-2\"'}},\n",
       "      {'path': {'path': 'models/',\n",
       "        'last_modified_at_source': '1589487938000',\n",
       "        'md5': '\"d41d8cd98f00b204e9800998ecf8427e\"'}}]}}}],\n",
       " 'total_records': '2'}"
      ]
     },
     "execution_count": 15,
     "metadata": {},
     "output_type": "execute_result"
    }
   ],
   "source": [
    "#Message = client._DatasetVersionService.FindDatasetVersions\n",
    "payload = {'dataset_id':dataset1.id}\n",
    "#payload = {'key1': 'value1', 'key2': 'value2'}\n",
    "\n",
    "r = requests.post(url, json = payload, headers= client._conn.auth)\n",
    "#r = requests.Request('POST', url, data = msg, headers= client._conn.auth)\n",
    "r.json()"
   ]
  },
  {
   "cell_type": "markdown",
   "metadata": {},
   "source": [
    "### Find Datasets by Fuzzy `name` & `tags`"
   ]
  },
  {
   "cell_type": "code",
   "execution_count": 16,
   "metadata": {},
   "outputs": [
    {
     "name": "stdout",
     "output_type": "stream",
     "text": [
      "set existing Dataset: Demo Dataset S3 - 2\n",
      "Find Datasets output: id: \"30042\"\n",
      "name: \"Demo Dataset S3 - 2\"\n",
      "owner: \"1003\"\n",
      "description: \"S3 Dataset with tags and description\"\n",
      "tags: \"tag-1\"\n",
      "tags: \"tag-2\"\n",
      "tags: \"tag-3\"\n",
      "time_created: 1593669969164\n",
      "time_updated: 1593669969172\n",
      "workspace_id: \"1003\"\n",
      "workspace_type: USER\n",
      "\n"
     ]
    }
   ],
   "source": [
    "find_dataset_output = client.find_datasets(name=dataset1.name, tags=[\"tag-1\"]) #name field work with fuzzy match\n",
    "for output in find_dataset_output:\n",
    "    print(\"Find Datasets output: {}\".format(output))"
   ]
  },
  {
   "cell_type": "markdown",
   "metadata": {},
   "source": [
    "### Find Datasets(All) witout predicates"
   ]
  },
  {
   "cell_type": "code",
   "execution_count": 17,
   "metadata": {},
   "outputs": [
    {
     "data": {
      "text/plain": [
       "{'datasets': [{'id': '30041',\n",
       "   'name': 'Demo Dataset S3',\n",
       "   'owner': '1003',\n",
       "   'time_created': '1593669967979',\n",
       "   'time_updated': '1593669974379',\n",
       "   'workspace_id': '1003',\n",
       "   'workspace_type': 'USER'},\n",
       "  {'id': '40',\n",
       "   'name': 'Demo Dataset S3 - 3',\n",
       "   'owner': '1003',\n",
       "   'time_created': '1593669970304',\n",
       "   'time_updated': '1593669973179',\n",
       "   'workspace_id': '1003',\n",
       "   'workspace_type': 'USER'},\n",
       "  {'id': '30042',\n",
       "   'name': 'Demo Dataset S3 - 2',\n",
       "   'owner': '1003',\n",
       "   'description': 'S3 Dataset with tags and description',\n",
       "   'tags': ['tag-1', 'tag-2', 'tag-3'],\n",
       "   'time_created': '1593669969164',\n",
       "   'time_updated': '1593669969172',\n",
       "   'workspace_id': '1003',\n",
       "   'workspace_type': 'USER'},\n",
       "  {'id': '30002',\n",
       "   'name': 'q',\n",
       "   'owner': '1003',\n",
       "   'time_created': '1593493818567',\n",
       "   'time_updated': '1593493818576',\n",
       "   'workspace_id': '1003',\n",
       "   'workspace_type': 'USER'},\n",
       "  {'id': '2',\n",
       "   'name': '2',\n",
       "   'owner': '1003',\n",
       "   'time_created': '1593138575115',\n",
       "   'time_updated': '1593138575125',\n",
       "   'workspace_id': '1003',\n",
       "   'workspace_type': 'USER'},\n",
       "  {'id': '1',\n",
       "   'name': '1',\n",
       "   'owner': '1003',\n",
       "   'time_created': '1593138495637',\n",
       "   'time_updated': '1593138495748',\n",
       "   'workspace_id': '1003',\n",
       "   'workspace_type': 'USER'}],\n",
       " 'total_records': '6'}"
      ]
     },
     "execution_count": 17,
     "metadata": {},
     "output_type": "execute_result"
    }
   ],
   "source": [
    "url = \"{}://{}/v1/dataset/findDatasets\".format(\n",
    "            client._conn.scheme,\n",
    "            client._conn.socket,\n",
    "        )\n",
    "#Message = client._DatasetVersionService.FindDatasetVersions\n",
    "payload = {}\n",
    "#payload = {'key1': 'value1', 'key2': 'value2'}\n",
    "\n",
    "r = requests.post(url, json = payload, headers= client._conn.auth)\n",
    "#r = requests.Request('POST', url, data = msg, headers= client._conn.auth)\n",
    "\n",
    "r.json()"
   ]
  },
  {
   "cell_type": "markdown",
   "metadata": {},
   "source": [
    "## Features not supported on traditional dataset versions"
   ]
  },
  {
   "cell_type": "markdown",
   "metadata": {},
   "source": [
    "### S3Version ID"
   ]
  },
  {
   "cell_type": "code",
   "execution_count": 18,
   "metadata": {},
   "outputs": [
    {
     "data": {
      "text/plain": [
       "{'dataset_version': {'id': '1dca92237f3fc2ac902a61c263d3ed14508c02bc120dcc19629943a30bca7029',\n",
       "  'parent_id': '871afb697a4d3ab65eaab376236763bf86b3e5a6e6f23afd637dc5613c2cdf1e',\n",
       "  'dataset_id': '30041',\n",
       "  'time_logged': '1593669979891',\n",
       "  'description': 'version with s3versionID',\n",
       "  'owner': '1003',\n",
       "  'path_dataset_version_info': {'location_type': 'S3_FILE_SYSTEM',\n",
       "   'size': '123',\n",
       "   'dataset_part_infos': [{'path': 's3://my-bucket/my-file.txt',\n",
       "     'size': '123'}],\n",
       "   'base_path': 'version'},\n",
       "  'time_updated': '1593669979891',\n",
       "  'dataset_blob': {'s3': {'components': [{'path': {'path': 's3://my-bucket/my-file.txt',\n",
       "       'size': '123',\n",
       "       'sha256': 'abcd'},\n",
       "      's3_version_id': 'a1b2c3d4'}]}}}}"
      ]
     },
     "execution_count": 18,
     "metadata": {},
     "output_type": "execute_result"
    }
   ],
   "source": [
    "url = \"{}://{}/v1/dataset-version/createDatasetVersion\".format(\n",
    "            client._conn.scheme,\n",
    "            client._conn.socket,\n",
    "        )\n",
    "#Message = client._DatasetVersionService.FindDatasetVersions\n",
    "payload = {'dataset_id': dataset1.id,\n",
    "           'description': 'version with s3versionID',\n",
    "          'dataset_blob': {\n",
    "              's3': {\n",
    "                  'components':[\n",
    "                      {\n",
    "                          'path':{\n",
    "                              'path':'s3://my-bucket/my-file.txt',\n",
    "                              'size':123,\n",
    "                              'sha256': 'abcd'\n",
    "                          },\n",
    "                          's3_version_id':'a1b2c3d4'\n",
    "                      }\n",
    "                  ]\n",
    "              }\n",
    "              }\n",
    "          }\n",
    "#payload = {'key1': 'value1', 'key2': 'value2'}\n",
    "\n",
    "r = requests.post(url, json = payload, headers= client._conn.auth)\n",
    "#r = requests.Request('POST', url, data = msg, headers= client._conn.auth)\n",
    "r.json()"
   ]
  },
  {
   "cell_type": "markdown",
   "metadata": {},
   "source": [
    "### Delete Dataset by ID"
   ]
  },
  {
   "cell_type": "code",
   "execution_count": 19,
   "metadata": {},
   "outputs": [
    {
     "data": {
      "text/plain": [
       "{'status': True}"
      ]
     },
     "execution_count": 19,
     "metadata": {},
     "output_type": "execute_result"
    }
   ],
   "source": [
    "url = \"{}://{}/v1/dataset/deleteDataset\".format(\n",
    "            client._conn.scheme,\n",
    "            client._conn.socket,\n",
    "        )\n",
    "payload = {'id':dataset1.id}\n",
    "#payload = {'key1': 'value1', 'key2': 'value2'}\n",
    "\n",
    "r = requests.delete(url, json = payload, headers= client._conn.auth)\n",
    "#r = requests.Request('POST', url, data = msg, headers= client._conn.auth)\n",
    "\n",
    "r.json()"
   ]
  },
  {
   "cell_type": "markdown",
   "metadata": {},
   "source": [
    "### Delete datasets in bulk"
   ]
  },
  {
   "cell_type": "code",
   "execution_count": 20,
   "metadata": {},
   "outputs": [
    {
     "data": {
      "text/plain": [
       "{'status': True}"
      ]
     },
     "execution_count": 20,
     "metadata": {},
     "output_type": "execute_result"
    }
   ],
   "source": [
    "url = \"{}://{}/v1/dataset/deleteDatasets\".format(\n",
    "            client._conn.scheme,\n",
    "            client._conn.socket,\n",
    "        )\n",
    "payload = {'ids':[dataset2.id, dataset3.id]}\n",
    "#payload = {'key1': 'value1', 'key2': 'value2'}\n",
    "\n",
    "r = requests.delete(url, json = payload, headers= client._conn.auth)\n",
    "#r = requests.Request('POST', url, data = msg, headers= client._conn.auth)\n",
    "r.json()"
   ]
  },
  {
   "cell_type": "markdown",
   "metadata": {},
   "source": [
    "### Verta managed Versioning"
   ]
  },
  {
   "cell_type": "code",
   "execution_count": null,
   "metadata": {},
   "outputs": [],
   "source": []
  }
 ],
 "metadata": {
  "kernelspec": {
   "display_name": "Python 3",
   "language": "python",
   "name": "python3"
  },
  "language_info": {
   "codemirror_mode": {
    "name": "ipython",
    "version": 3
   },
   "file_extension": ".py",
   "mimetype": "text/x-python",
   "name": "python",
   "nbconvert_exporter": "python",
   "pygments_lexer": "ipython3",
   "version": "3.7.6"
  }
 },
 "nbformat": 4,
 "nbformat_minor": 2
}
